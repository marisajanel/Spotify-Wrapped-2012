{
 "cells": [
  {
   "cell_type": "code",
   "execution_count": 2,
   "metadata": {},
   "outputs": [
    {
     "name": "stdout",
     "output_type": "stream",
     "text": [
      "Done! CSV saved as 'spotify_2012_listening.csv'\n"
     ]
    }
   ],
   "source": [
    "import pandas as  pd\n",
    "import json\n",
    "\n",
    "with open(\"Streaming_History_Audio_2011-2014_0.json\", \"r\", encoding=\"utf-8\") as f: data = json.load(f)\n",
    "\n",
    "# Step 2: Convert to a pandas DataFrame\n",
    "df = pd.DataFrame(data)\n",
    "\n",
    "# Step 3: Convert timestamp column to datetime format\n",
    "df[\"ts\"] = pd.to_datetime(df[\"ts\"])\n",
    "\n",
    "# Filter for only 2012\n",
    "df_2012 = df[df[\"ts\"].dt.year == 2012]\n",
    "\n",
    "# Save to CSV\n",
    "df_2012.to_csv(\"spotify_2012_listening.csv\", index=False)\n",
    "\n",
    "print(\"Done! CSV saved as 'spotify_2012_listening.csv'\")"
   ]
  },
  {
   "cell_type": "code",
   "execution_count": null,
   "metadata": {},
   "outputs": [],
   "source": []
  }
 ],
 "metadata": {
  "kernelspec": {
   "display_name": "base",
   "language": "python",
   "name": "python3"
  },
  "language_info": {
   "codemirror_mode": {
    "name": "ipython",
    "version": 3
   },
   "file_extension": ".py",
   "mimetype": "text/x-python",
   "name": "python",
   "nbconvert_exporter": "python",
   "pygments_lexer": "ipython3",
   "version": "3.12.7"
  }
 },
 "nbformat": 4,
 "nbformat_minor": 2
}
